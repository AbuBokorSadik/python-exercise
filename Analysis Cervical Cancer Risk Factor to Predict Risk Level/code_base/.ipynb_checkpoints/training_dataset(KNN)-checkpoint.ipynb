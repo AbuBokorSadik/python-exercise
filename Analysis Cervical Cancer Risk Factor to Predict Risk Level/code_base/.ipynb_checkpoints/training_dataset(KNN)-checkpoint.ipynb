{
 "cells": [
  {
   "cell_type": "code",
   "execution_count": 1,
   "metadata": {
    "collapsed": true
   },
   "outputs": [],
   "source": [
    "import pandas as pd\n",
    "from sklearn.model_selection import train_test_split\n",
    "from sklearn import neighbors as nb\n",
    "import sklearn.metrics"
   ]
  },
  {
   "cell_type": "code",
   "execution_count": 2,
   "metadata": {
    "collapsed": true
   },
   "outputs": [],
   "source": [
    "df=pd.read_csv('../output/risk_factors_cervical_cancer(training).csv')"
   ]
  },
  {
   "cell_type": "code",
   "execution_count": 3,
   "metadata": {
    "collapsed": true
   },
   "outputs": [],
   "source": [
    "# data spliting by(80-20)\n",
    "cancer_target=list(df['target'])\n",
    "df_heder=list(df)\n",
    "df_heder=df_heder[0:32]\n",
    "temp_dict=dict.fromkeys(df_heder)\n",
    "for i in range(len(df_heder)):\n",
    "    temp_dict[df_heder[i]]=list(df[df_heder[i]])\n",
    "cancer_data=pd.DataFrame(temp_dict)\n",
    "train_data, test_data, train_target, test_target = train_test_split(cancer_data,cancer_target, test_size=0.20)"
   ]
  },
  {
   "cell_type": "code",
   "execution_count": 8,
   "metadata": {},
   "outputs": [
    {
     "data": {
      "text/plain": [
       "KNeighborsClassifier(algorithm='auto', leaf_size=30, metric='minkowski',\n",
       "           metric_params=None, n_jobs=1, n_neighbors=7, p=2,\n",
       "           weights='uniform')"
      ]
     },
     "execution_count": 8,
     "metadata": {},
     "output_type": "execute_result"
    }
   ],
   "source": [
    "clf = nb.KNeighborsClassifier(n_neighbors=7)\n",
    "clf.fit(train_data, train_target)"
   ]
  },
  {
   "cell_type": "code",
   "execution_count": 9,
   "metadata": {},
   "outputs": [
    {
     "name": "stdout",
     "output_type": "stream",
     "text": [
      "[[160   0   0   0   0]\n",
      " [  5   0   0   0   0]\n",
      " [  4   0   0   0   0]\n",
      " [  2   0   0   0   0]\n",
      " [  1   0   0   0   0]]\n",
      "0.9302325581395349\n"
     ]
    }
   ],
   "source": [
    " #Build model on training data, confusion matrix, accuracy\n",
    " predic=clf.predict(test_data)\n",
    " print(sklearn.metrics.confusion_matrix(test_target,predic))\n",
    " print(sklearn.metrics.accuracy_score(test_target, predic))"
   ]
  },
  {
   "cell_type": "code",
   "execution_count": null,
   "metadata": {
    "collapsed": true
   },
   "outputs": [],
   "source": []
  }
 ],
 "metadata": {
  "kernelspec": {
   "display_name": "Python 3",
   "language": "python",
   "name": "python3"
  },
  "language_info": {
   "codemirror_mode": {
    "name": "ipython",
    "version": 3
   },
   "file_extension": ".py",
   "mimetype": "text/x-python",
   "name": "python",
   "nbconvert_exporter": "python",
   "pygments_lexer": "ipython3",
   "version": "3.6.3"
  }
 },
 "nbformat": 4,
 "nbformat_minor": 2
}
