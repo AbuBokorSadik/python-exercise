{
 "cells": [
  {
   "cell_type": "code",
   "execution_count": 1,
   "metadata": {
    "collapsed": true
   },
   "outputs": [],
   "source": [
    "import pandas as pd\n",
    "from sklearn.model_selection import train_test_split"
   ]
  },
  {
   "cell_type": "code",
   "execution_count": 2,
   "metadata": {
    "collapsed": true
   },
   "outputs": [],
   "source": [
    "df=pd.read_csv('../output/risk_factors_cervical_cancer(training).csv')"
   ]
  },
  {
   "cell_type": "code",
   "execution_count": 3,
   "metadata": {
    "collapsed": true
   },
   "outputs": [],
   "source": [
    "# data spliting by(80-20)\n",
    "cancer_target=list(df['target'])\n",
    "df_heder=list(df)\n",
    "attributes=df_heder[0:32]\n",
    "temp_dict=dict.fromkeys(df_heder)\n",
    "for i in range(len(df_heder)):\n",
    "    temp_dict[df_heder[i]]=list(df[df_heder[i]])\n",
    "# print(temp_dict)\n",
    "# attributes\n",
    "cancer_data=pd.DataFrame(temp_dict)\n",
    "# cancer_data.head()\n",
    "# target\n",
    "train_data, test_data, train_target, test_target = train_test_split(cancer_data,cancer_target, test_size=0.20)"
   ]
  },
  {
   "cell_type": "code",
   "execution_count": null,
   "metadata": {
    "collapsed": true
   },
   "outputs": [],
   "source": []
  }
 ],
 "metadata": {
  "kernelspec": {
   "display_name": "Python 3",
   "language": "python",
   "name": "python3"
  },
  "language_info": {
   "codemirror_mode": {
    "name": "ipython",
    "version": 3
   },
   "file_extension": ".py",
   "mimetype": "text/x-python",
   "name": "python",
   "nbconvert_exporter": "python",
   "pygments_lexer": "ipython3",
   "version": "3.6.3"
  }
 },
 "nbformat": 4,
 "nbformat_minor": 2
}
