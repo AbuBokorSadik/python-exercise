{
 "cells": [
  {
   "cell_type": "code",
   "execution_count": 1,
   "metadata": {
    "collapsed": true
   },
   "outputs": [],
   "source": [
    "import pandas as pd\n",
    "import matplotlib.pyplot as plt\n",
    "from sklearn.model_selection import train_test_split\n",
    "from sklearn import tree\n",
    "from sklearn.tree import DecisionTreeClassifier\n",
    "import sklearn.metrics"
   ]
  },
  {
   "cell_type": "code",
   "execution_count": 2,
   "metadata": {
    "collapsed": true
   },
   "outputs": [],
   "source": [
    "df=pd.read_csv('../output/risk_factors_cervical_cancer(training).csv')"
   ]
  },
  {
   "cell_type": "code",
   "execution_count": 3,
   "metadata": {
    "collapsed": true
   },
   "outputs": [],
   "source": [
    "# data spliting by(80-20)\n",
    "cancer_target=list(df['target'])\n",
    "df_heder=list(df)\n",
    "df_heder=df_heder[0:32]\n",
    "temp_dict=dict.fromkeys(df_heder)\n",
    "for i in range(len(df_heder)):\n",
    "    temp_dict[df_heder[i]]=list(df[df_heder[i]])\n",
    "cancer_data=pd.DataFrame(temp_dict)"
   ]
  },
  {
   "cell_type": "code",
   "execution_count": 14,
   "metadata": {
    "collapsed": true
   },
   "outputs": [],
   "source": [
    "train_data, test_data, train_target, test_target = train_test_split(cancer_data,cancer_target, test_size=0.20)"
   ]
  },
  {
   "cell_type": "code",
   "execution_count": 15,
   "metadata": {},
   "outputs": [
    {
     "data": {
      "text/plain": [
       "DecisionTreeClassifier(class_weight=None, criterion='gini', max_depth=None,\n",
       "            max_features=None, max_leaf_nodes=None,\n",
       "            min_impurity_decrease=0.0, min_impurity_split=None,\n",
       "            min_samples_leaf=1, min_samples_split=2,\n",
       "            min_weight_fraction_leaf=0.0, presort=False, random_state=100,\n",
       "            splitter='best')"
      ]
     },
     "execution_count": 15,
     "metadata": {},
     "output_type": "execute_result"
    }
   ],
   "source": [
    "# calcification by Decision Tree\n",
    "clf_gini = tree.DecisionTreeClassifier(criterion = \"gini\", random_state = 100)\n",
    "clf_gini.fit(train_data, train_target)\n",
    "# tree.export_graphviz(clf,out_file='../output/tree.dot')"
   ]
  },
  {
   "cell_type": "code",
   "execution_count": 16,
   "metadata": {},
   "outputs": [
    {
     "name": "stdout",
     "output_type": "stream",
     "text": [
      "[[130   7   6   6   0]\n",
      " [  7   0   1   1   0]\n",
      " [  4   1   0   0   0]\n",
      " [  7   0   1   0   0]\n",
      " [  1   0   0   0   0]]\n",
      "0.7558139534883721\n"
     ]
    }
   ],
   "source": [
    " #Build model on training data, confusion matrix, accuracy\n",
    " predic=clf_gini.predict(test_data)\n",
    " print(sklearn.metrics.confusion_matrix(test_target,predic))\n",
    " print(sklearn.metrics.accuracy_score(test_target, predic))"
   ]
  },
  {
   "cell_type": "code",
   "execution_count": 17,
   "metadata": {},
   "outputs": [
    {
     "data": {
      "text/plain": [
       "DecisionTreeClassifier(class_weight=None, criterion='entropy', max_depth=None,\n",
       "            max_features=None, max_leaf_nodes=None,\n",
       "            min_impurity_decrease=0.0, min_impurity_split=None,\n",
       "            min_samples_leaf=1, min_samples_split=2,\n",
       "            min_weight_fraction_leaf=0.0, presort=False, random_state=100,\n",
       "            splitter='best')"
      ]
     },
     "execution_count": 17,
     "metadata": {},
     "output_type": "execute_result"
    }
   ],
   "source": [
    "clf_info_gain = tree.DecisionTreeClassifier(criterion = \"entropy\", random_state = 100)\n",
    "clf_info_gain.fit(train_data, train_target)"
   ]
  },
  {
   "cell_type": "code",
   "execution_count": 18,
   "metadata": {},
   "outputs": [
    {
     "name": "stdout",
     "output_type": "stream",
     "text": [
      "[[138   4   5   2   0]\n",
      " [  6   0   2   1   0]\n",
      " [  5   0   0   0   0]\n",
      " [  8   0   0   0   0]\n",
      " [  1   0   0   0   0]]\n",
      "0.8023255813953488\n"
     ]
    }
   ],
   "source": [
    " #Build model on training data, confusion matrix, accuracy\n",
    " predic=clf_info_gain.predict(test_data)\n",
    " print(sklearn.metrics.confusion_matrix(test_target,predic))\n",
    " print(sklearn.metrics.accuracy_score(test_target, predic))"
   ]
  },
  {
   "cell_type": "code",
   "execution_count": null,
   "metadata": {
    "collapsed": true
   },
   "outputs": [],
   "source": []
  }
 ],
 "metadata": {
  "kernelspec": {
   "display_name": "Python 3",
   "language": "python",
   "name": "python3"
  },
  "language_info": {
   "codemirror_mode": {
    "name": "ipython",
    "version": 3
   },
   "file_extension": ".py",
   "mimetype": "text/x-python",
   "name": "python",
   "nbconvert_exporter": "python",
   "pygments_lexer": "ipython3",
   "version": "3.6.3"
  }
 },
 "nbformat": 4,
 "nbformat_minor": 2
}
